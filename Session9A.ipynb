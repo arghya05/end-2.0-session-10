{
  "nbformat": 4,
  "nbformat_minor": 0,
  "metadata": {
    "accelerator": "GPU",
    "colab": {
      "name": "Session9A.ipynb",
      "provenance": []
    },
    "kernelspec": {
      "display_name": "Python 3",
      "language": "python",
      "name": "python3"
    },
    "language_info": {
      "codemirror_mode": {
        "name": "ipython",
        "version": 3
      },
      "file_extension": ".py",
      "mimetype": "text/x-python",
      "name": "python",
      "nbconvert_exporter": "python",
      "pygments_lexer": "ipython3",
      "version": "3.7.7"
    },
    "toc": {
      "base_numbering": 1,
      "nav_menu": {},
      "number_sections": true,
      "sideBar": true,
      "skip_h1_title": false,
      "title_cell": "Table of Contents",
      "title_sidebar": "Contents",
      "toc_cell": false,
      "toc_position": {},
      "toc_section_display": true,
      "toc_window_display": false
    },
    "varInspector": {
      "cols": {
        "lenName": 16,
        "lenType": 16,
        "lenVar": 40
      },
      "kernels_config": {
        "python": {
          "delete_cmd_postfix": "",
          "delete_cmd_prefix": "del ",
          "library": "var_list.py",
          "varRefreshCmd": "print(var_dic_list())"
        },
        "r": {
          "delete_cmd_postfix": ") ",
          "delete_cmd_prefix": "rm(",
          "library": "var_list.r",
          "varRefreshCmd": "cat(var_dic_list()) "
        }
      },
      "types_to_exclude": [
        "module",
        "function",
        "builtin_function_or_method",
        "instance",
        "_Feature"
      ],
      "window_display": false
    }
  },
  "cells": [
    {
      "cell_type": "markdown",
      "metadata": {
        "id": "dzv-hxJYXHz9"
      },
      "source": [
        "### This assignment it to implement the model evaluation metrics using Recall, Precision, and F1 Score"
      ]
    },
    {
      "cell_type": "code",
      "metadata": {
        "colab": {
          "base_uri": "https://localhost:8080/"
        },
        "id": "8coQdUPsYmrL",
        "outputId": "32860f1a-b5e2-4aa4-e888-d25a59c75608"
      },
      "source": [
        "import torch\n",
        "import torch.nn as nn\n",
        "import torch.optim as optim\n",
        "\n",
        "import torchtext.legacy\n",
        "from torchtext import datasets\n",
        "\n",
        "import re\n",
        "import pandas as pd\n",
        "import numpy as np\n",
        "import seaborn as sns\n",
        "from matplotlib import pyplot as plt\n",
        "\n",
        "import spacy\n",
        "import nltk\n",
        "from nltk.corpus import stopwords, wordnet\n",
        "nltk.download('wordnet')\n",
        "nltk.download('stopwords')\n",
        "\n",
        "from sklearn.model_selection import train_test_split\n",
        "from sklearn.metrics import classification_report\n",
        "\n",
        "import random\n",
        "import os, pickle"
      ],
      "execution_count": 1,
      "outputs": [
        {
          "output_type": "stream",
          "text": [
            "[nltk_data] Downloading package wordnet to /root/nltk_data...\n",
            "[nltk_data]   Unzipping corpora/wordnet.zip.\n",
            "[nltk_data] Downloading package stopwords to /root/nltk_data...\n",
            "[nltk_data]   Unzipping corpora/stopwords.zip.\n"
          ],
          "name": "stdout"
        }
      ]
    },
    {
      "cell_type": "markdown",
      "metadata": {
        "id": "ilRIIqAtXub5"
      },
      "source": [
        "Get the raw data"
      ]
    },
    {
      "cell_type": "code",
      "metadata": {
        "colab": {
          "base_uri": "https://localhost:8080/"
        },
        "id": "-ZIr0kCXXG5X",
        "outputId": "07c447ee-6fc6-423d-ac3c-1a1315684d1e"
      },
      "source": [
        "! wget http://nlp.stanford.edu/~socherr/stanfordSentimentTreebank.zip"
      ],
      "execution_count": 2,
      "outputs": [
        {
          "output_type": "stream",
          "text": [
            "--2021-07-10 06:41:52--  http://nlp.stanford.edu/~socherr/stanfordSentimentTreebank.zip\n",
            "Resolving nlp.stanford.edu (nlp.stanford.edu)... 171.64.67.140\n",
            "Connecting to nlp.stanford.edu (nlp.stanford.edu)|171.64.67.140|:80... connected.\n",
            "HTTP request sent, awaiting response... 302 Found\n",
            "Location: https://nlp.stanford.edu/~socherr/stanfordSentimentTreebank.zip [following]\n",
            "--2021-07-10 06:41:52--  https://nlp.stanford.edu/~socherr/stanfordSentimentTreebank.zip\n",
            "Connecting to nlp.stanford.edu (nlp.stanford.edu)|171.64.67.140|:443... connected.\n",
            "HTTP request sent, awaiting response... 200 OK\n",
            "Length: 6372817 (6.1M) [application/zip]\n",
            "Saving to: ‘stanfordSentimentTreebank.zip’\n",
            "\n",
            "stanfordSentimentTr 100%[===================>]   6.08M  18.4MB/s    in 0.3s    \n",
            "\n",
            "2021-07-10 06:41:53 (18.4 MB/s) - ‘stanfordSentimentTreebank.zip’ saved [6372817/6372817]\n",
            "\n"
          ],
          "name": "stdout"
        }
      ]
    },
    {
      "cell_type": "code",
      "metadata": {
        "colab": {
          "base_uri": "https://localhost:8080/"
        },
        "id": "7qRYpLM7YFw2",
        "outputId": "98e4be2a-ddce-4163-8551-35ae27f1ecb2"
      },
      "source": [
        "!unzip stanfordSentimentTreebank.zip"
      ],
      "execution_count": 3,
      "outputs": [
        {
          "output_type": "stream",
          "text": [
            "Archive:  stanfordSentimentTreebank.zip\n",
            "   creating: stanfordSentimentTreebank/\n",
            "  inflating: stanfordSentimentTreebank/datasetSentences.txt  \n",
            "   creating: __MACOSX/\n",
            "   creating: __MACOSX/stanfordSentimentTreebank/\n",
            "  inflating: __MACOSX/stanfordSentimentTreebank/._datasetSentences.txt  \n",
            "  inflating: stanfordSentimentTreebank/datasetSplit.txt  \n",
            "  inflating: __MACOSX/stanfordSentimentTreebank/._datasetSplit.txt  \n",
            "  inflating: stanfordSentimentTreebank/dictionary.txt  \n",
            "  inflating: __MACOSX/stanfordSentimentTreebank/._dictionary.txt  \n",
            "  inflating: stanfordSentimentTreebank/original_rt_snippets.txt  \n",
            "  inflating: __MACOSX/stanfordSentimentTreebank/._original_rt_snippets.txt  \n",
            "  inflating: stanfordSentimentTreebank/README.txt  \n",
            "  inflating: __MACOSX/stanfordSentimentTreebank/._README.txt  \n",
            "  inflating: stanfordSentimentTreebank/sentiment_labels.txt  \n",
            "  inflating: __MACOSX/stanfordSentimentTreebank/._sentiment_labels.txt  \n",
            "  inflating: stanfordSentimentTreebank/SOStr.txt  \n",
            "  inflating: stanfordSentimentTreebank/STree.txt  \n"
          ],
          "name": "stdout"
        }
      ]
    },
    {
      "cell_type": "markdown",
      "metadata": {
        "id": "Qou7QCCEY_9U"
      },
      "source": [
        "## Load Dataset into dataframes"
      ]
    },
    {
      "cell_type": "code",
      "metadata": {
        "id": "gQJ1OHPQY3Xx"
      },
      "source": [
        "# Get Sentiment Labels\n",
        "sentiment_labels = pd.read_csv('/content/stanfordSentimentTreebank/sentiment_labels.txt',names=['phrase_id','sentiment_values'], sep = \"|\", header = 0)"
      ],
      "execution_count": 4,
      "outputs": []
    },
    {
      "cell_type": "code",
      "metadata": {
        "colab": {
          "base_uri": "https://localhost:8080/",
          "height": 204
        },
        "id": "_twepsZrYc4F",
        "outputId": "c32e7553-1310-4ada-c980-00bd66dcc8ea"
      },
      "source": [
        "sentiment_labels.head()"
      ],
      "execution_count": 5,
      "outputs": [
        {
          "output_type": "execute_result",
          "data": {
            "text/html": [
              "<div>\n",
              "<style scoped>\n",
              "    .dataframe tbody tr th:only-of-type {\n",
              "        vertical-align: middle;\n",
              "    }\n",
              "\n",
              "    .dataframe tbody tr th {\n",
              "        vertical-align: top;\n",
              "    }\n",
              "\n",
              "    .dataframe thead th {\n",
              "        text-align: right;\n",
              "    }\n",
              "</style>\n",
              "<table border=\"1\" class=\"dataframe\">\n",
              "  <thead>\n",
              "    <tr style=\"text-align: right;\">\n",
              "      <th></th>\n",
              "      <th>phrase_id</th>\n",
              "      <th>sentiment_values</th>\n",
              "    </tr>\n",
              "  </thead>\n",
              "  <tbody>\n",
              "    <tr>\n",
              "      <th>0</th>\n",
              "      <td>0</td>\n",
              "      <td>0.50000</td>\n",
              "    </tr>\n",
              "    <tr>\n",
              "      <th>1</th>\n",
              "      <td>1</td>\n",
              "      <td>0.50000</td>\n",
              "    </tr>\n",
              "    <tr>\n",
              "      <th>2</th>\n",
              "      <td>2</td>\n",
              "      <td>0.44444</td>\n",
              "    </tr>\n",
              "    <tr>\n",
              "      <th>3</th>\n",
              "      <td>3</td>\n",
              "      <td>0.50000</td>\n",
              "    </tr>\n",
              "    <tr>\n",
              "      <th>4</th>\n",
              "      <td>4</td>\n",
              "      <td>0.42708</td>\n",
              "    </tr>\n",
              "  </tbody>\n",
              "</table>\n",
              "</div>"
            ],
            "text/plain": [
              "   phrase_id  sentiment_values\n",
              "0          0           0.50000\n",
              "1          1           0.50000\n",
              "2          2           0.44444\n",
              "3          3           0.50000\n",
              "4          4           0.42708"
            ]
          },
          "metadata": {
            "tags": []
          },
          "execution_count": 5
        }
      ]
    },
    {
      "cell_type": "code",
      "metadata": {
        "colab": {
          "base_uri": "https://localhost:8080/",
          "height": 204
        },
        "id": "NQnK1v3hbkgD",
        "outputId": "8ef0cbf3-e629-4a1c-a21e-ce77acbc314d"
      },
      "source": [
        "# Convert label values to 5 buckets\n",
        "n_bins = 5\n",
        "sentiment_labels['sentiment_values'] = pd.cut(sentiment_labels['sentiment_values'], n_bins, labels = np.arange(5),retbins=True)[0]\n",
        "sentiment_labels.head()"
      ],
      "execution_count": 6,
      "outputs": [
        {
          "output_type": "execute_result",
          "data": {
            "text/html": [
              "<div>\n",
              "<style scoped>\n",
              "    .dataframe tbody tr th:only-of-type {\n",
              "        vertical-align: middle;\n",
              "    }\n",
              "\n",
              "    .dataframe tbody tr th {\n",
              "        vertical-align: top;\n",
              "    }\n",
              "\n",
              "    .dataframe thead th {\n",
              "        text-align: right;\n",
              "    }\n",
              "</style>\n",
              "<table border=\"1\" class=\"dataframe\">\n",
              "  <thead>\n",
              "    <tr style=\"text-align: right;\">\n",
              "      <th></th>\n",
              "      <th>phrase_id</th>\n",
              "      <th>sentiment_values</th>\n",
              "    </tr>\n",
              "  </thead>\n",
              "  <tbody>\n",
              "    <tr>\n",
              "      <th>0</th>\n",
              "      <td>0</td>\n",
              "      <td>2</td>\n",
              "    </tr>\n",
              "    <tr>\n",
              "      <th>1</th>\n",
              "      <td>1</td>\n",
              "      <td>2</td>\n",
              "    </tr>\n",
              "    <tr>\n",
              "      <th>2</th>\n",
              "      <td>2</td>\n",
              "      <td>2</td>\n",
              "    </tr>\n",
              "    <tr>\n",
              "      <th>3</th>\n",
              "      <td>3</td>\n",
              "      <td>2</td>\n",
              "    </tr>\n",
              "    <tr>\n",
              "      <th>4</th>\n",
              "      <td>4</td>\n",
              "      <td>2</td>\n",
              "    </tr>\n",
              "  </tbody>\n",
              "</table>\n",
              "</div>"
            ],
            "text/plain": [
              "   phrase_id sentiment_values\n",
              "0          0                2\n",
              "1          1                2\n",
              "2          2                2\n",
              "3          3                2\n",
              "4          4                2"
            ]
          },
          "metadata": {
            "tags": []
          },
          "execution_count": 6
        }
      ]
    },
    {
      "cell_type": "code",
      "metadata": {
        "id": "ZPwj0BONb3OS"
      },
      "source": [
        "# Get Sentence Ids\n",
        "sentence_ids = pd.read_csv('/content/stanfordSentimentTreebank/datasetSentences.txt', sep = \"\\t\")"
      ],
      "execution_count": 7,
      "outputs": []
    },
    {
      "cell_type": "code",
      "metadata": {
        "colab": {
          "base_uri": "https://localhost:8080/",
          "height": 204
        },
        "id": "EZ-XGjBwdKha",
        "outputId": "eaf91cd7-e8b6-4526-b17a-a7bc9e0a8550"
      },
      "source": [
        "sentence_ids.head()"
      ],
      "execution_count": 8,
      "outputs": [
        {
          "output_type": "execute_result",
          "data": {
            "text/html": [
              "<div>\n",
              "<style scoped>\n",
              "    .dataframe tbody tr th:only-of-type {\n",
              "        vertical-align: middle;\n",
              "    }\n",
              "\n",
              "    .dataframe tbody tr th {\n",
              "        vertical-align: top;\n",
              "    }\n",
              "\n",
              "    .dataframe thead th {\n",
              "        text-align: right;\n",
              "    }\n",
              "</style>\n",
              "<table border=\"1\" class=\"dataframe\">\n",
              "  <thead>\n",
              "    <tr style=\"text-align: right;\">\n",
              "      <th></th>\n",
              "      <th>sentence_index</th>\n",
              "      <th>sentence</th>\n",
              "    </tr>\n",
              "  </thead>\n",
              "  <tbody>\n",
              "    <tr>\n",
              "      <th>0</th>\n",
              "      <td>1</td>\n",
              "      <td>The Rock is destined to be the 21st Century 's...</td>\n",
              "    </tr>\n",
              "    <tr>\n",
              "      <th>1</th>\n",
              "      <td>2</td>\n",
              "      <td>The gorgeously elaborate continuation of `` Th...</td>\n",
              "    </tr>\n",
              "    <tr>\n",
              "      <th>2</th>\n",
              "      <td>3</td>\n",
              "      <td>Effective but too-tepid biopic</td>\n",
              "    </tr>\n",
              "    <tr>\n",
              "      <th>3</th>\n",
              "      <td>4</td>\n",
              "      <td>If you sometimes like to go to the movies to h...</td>\n",
              "    </tr>\n",
              "    <tr>\n",
              "      <th>4</th>\n",
              "      <td>5</td>\n",
              "      <td>Emerges as something rare , an issue movie tha...</td>\n",
              "    </tr>\n",
              "  </tbody>\n",
              "</table>\n",
              "</div>"
            ],
            "text/plain": [
              "   sentence_index                                           sentence\n",
              "0               1  The Rock is destined to be the 21st Century 's...\n",
              "1               2  The gorgeously elaborate continuation of `` Th...\n",
              "2               3                     Effective but too-tepid biopic\n",
              "3               4  If you sometimes like to go to the movies to h...\n",
              "4               5  Emerges as something rare , an issue movie tha..."
            ]
          },
          "metadata": {
            "tags": []
          },
          "execution_count": 8
        }
      ]
    },
    {
      "cell_type": "code",
      "metadata": {
        "id": "5zTtCWPue-Yb"
      },
      "source": [
        "# Get Dictionary\n",
        "dictionary = pd.read_csv('/content/stanfordSentimentTreebank/dictionary.txt', sep = \"|\", names = ['phrase', 'phrase_id'])"
      ],
      "execution_count": 9,
      "outputs": []
    },
    {
      "cell_type": "code",
      "metadata": {
        "colab": {
          "base_uri": "https://localhost:8080/",
          "height": 204
        },
        "id": "ddcWNB3-imxM",
        "outputId": "89ddf316-d973-4593-b050-fa32d9671e0f"
      },
      "source": [
        "dictionary.head()"
      ],
      "execution_count": 10,
      "outputs": [
        {
          "output_type": "execute_result",
          "data": {
            "text/html": [
              "<div>\n",
              "<style scoped>\n",
              "    .dataframe tbody tr th:only-of-type {\n",
              "        vertical-align: middle;\n",
              "    }\n",
              "\n",
              "    .dataframe tbody tr th {\n",
              "        vertical-align: top;\n",
              "    }\n",
              "\n",
              "    .dataframe thead th {\n",
              "        text-align: right;\n",
              "    }\n",
              "</style>\n",
              "<table border=\"1\" class=\"dataframe\">\n",
              "  <thead>\n",
              "    <tr style=\"text-align: right;\">\n",
              "      <th></th>\n",
              "      <th>phrase</th>\n",
              "      <th>phrase_id</th>\n",
              "    </tr>\n",
              "  </thead>\n",
              "  <tbody>\n",
              "    <tr>\n",
              "      <th>0</th>\n",
              "      <td>!</td>\n",
              "      <td>0</td>\n",
              "    </tr>\n",
              "    <tr>\n",
              "      <th>1</th>\n",
              "      <td>! '</td>\n",
              "      <td>22935</td>\n",
              "    </tr>\n",
              "    <tr>\n",
              "      <th>2</th>\n",
              "      <td>! ''</td>\n",
              "      <td>18235</td>\n",
              "    </tr>\n",
              "    <tr>\n",
              "      <th>3</th>\n",
              "      <td>! Alas</td>\n",
              "      <td>179257</td>\n",
              "    </tr>\n",
              "    <tr>\n",
              "      <th>4</th>\n",
              "      <td>! Brilliant</td>\n",
              "      <td>22936</td>\n",
              "    </tr>\n",
              "  </tbody>\n",
              "</table>\n",
              "</div>"
            ],
            "text/plain": [
              "        phrase  phrase_id\n",
              "0            !          0\n",
              "1          ! '      22935\n",
              "2         ! ''      18235\n",
              "3       ! Alas     179257\n",
              "4  ! Brilliant      22936"
            ]
          },
          "metadata": {
            "tags": []
          },
          "execution_count": 10
        }
      ]
    },
    {
      "cell_type": "markdown",
      "metadata": {
        "id": "_Hz58VI9nGMz"
      },
      "source": [
        "### In this dataset, each sentence is split into lowest level phrases/tokens and these phrases are proivided the sentiments. These leaf level nodes are merged to get the sentiment of next level and this goes up till the entire sentence. Hence the dictionary contains all sentences with the sentiment as top level phrase or node. We can do an inner join to find these phrases."
      ]
    },
    {
      "cell_type": "code",
      "metadata": {
        "colab": {
          "base_uri": "https://localhost:8080/",
          "height": 204
        },
        "id": "n7fHnkfHloU5",
        "outputId": "b74f6b4b-6bfa-429f-c65f-db1e7042dfee"
      },
      "source": [
        "sentence_phrase_map = pd.merge(sentence_ids, dictionary, left_on='sentence', right_on='phrase')\n",
        "sentence_phrase_map.head()"
      ],
      "execution_count": 11,
      "outputs": [
        {
          "output_type": "execute_result",
          "data": {
            "text/html": [
              "<div>\n",
              "<style scoped>\n",
              "    .dataframe tbody tr th:only-of-type {\n",
              "        vertical-align: middle;\n",
              "    }\n",
              "\n",
              "    .dataframe tbody tr th {\n",
              "        vertical-align: top;\n",
              "    }\n",
              "\n",
              "    .dataframe thead th {\n",
              "        text-align: right;\n",
              "    }\n",
              "</style>\n",
              "<table border=\"1\" class=\"dataframe\">\n",
              "  <thead>\n",
              "    <tr style=\"text-align: right;\">\n",
              "      <th></th>\n",
              "      <th>sentence_index</th>\n",
              "      <th>sentence</th>\n",
              "      <th>phrase</th>\n",
              "      <th>phrase_id</th>\n",
              "    </tr>\n",
              "  </thead>\n",
              "  <tbody>\n",
              "    <tr>\n",
              "      <th>0</th>\n",
              "      <td>1</td>\n",
              "      <td>The Rock is destined to be the 21st Century 's...</td>\n",
              "      <td>The Rock is destined to be the 21st Century 's...</td>\n",
              "      <td>226166</td>\n",
              "    </tr>\n",
              "    <tr>\n",
              "      <th>1</th>\n",
              "      <td>2</td>\n",
              "      <td>The gorgeously elaborate continuation of `` Th...</td>\n",
              "      <td>The gorgeously elaborate continuation of `` Th...</td>\n",
              "      <td>226300</td>\n",
              "    </tr>\n",
              "    <tr>\n",
              "      <th>2</th>\n",
              "      <td>3</td>\n",
              "      <td>Effective but too-tepid biopic</td>\n",
              "      <td>Effective but too-tepid biopic</td>\n",
              "      <td>13995</td>\n",
              "    </tr>\n",
              "    <tr>\n",
              "      <th>3</th>\n",
              "      <td>4</td>\n",
              "      <td>If you sometimes like to go to the movies to h...</td>\n",
              "      <td>If you sometimes like to go to the movies to h...</td>\n",
              "      <td>14123</td>\n",
              "    </tr>\n",
              "    <tr>\n",
              "      <th>4</th>\n",
              "      <td>5</td>\n",
              "      <td>Emerges as something rare , an issue movie tha...</td>\n",
              "      <td>Emerges as something rare , an issue movie tha...</td>\n",
              "      <td>13999</td>\n",
              "    </tr>\n",
              "  </tbody>\n",
              "</table>\n",
              "</div>"
            ],
            "text/plain": [
              "   sentence_index  ... phrase_id\n",
              "0               1  ...    226166\n",
              "1               2  ...    226300\n",
              "2               3  ...     13995\n",
              "3               4  ...     14123\n",
              "4               5  ...     13999\n",
              "\n",
              "[5 rows x 4 columns]"
            ]
          },
          "metadata": {
            "tags": []
          },
          "execution_count": 11
        }
      ]
    },
    {
      "cell_type": "markdown",
      "metadata": {
        "id": "EIaK50pNpBqV"
      },
      "source": [
        "### As we need to get the sentiment of the sentences and sentiments are maintained at phrase level, we will do the inner join to get the sentiment of sentences using the df from above step"
      ]
    },
    {
      "cell_type": "code",
      "metadata": {
        "id": "e0yLM70UpBGG"
      },
      "source": [
        "sentence_sentiment = pd.merge(sentence_phrase_map, sentiment_labels, left_on='phrase_id', right_on='phrase_id')"
      ],
      "execution_count": 12,
      "outputs": []
    },
    {
      "cell_type": "code",
      "metadata": {
        "colab": {
          "base_uri": "https://localhost:8080/",
          "height": 204
        },
        "id": "Kt_NQnMiop3y",
        "outputId": "9f367f37-884f-41d3-b83b-76bd1096cc73"
      },
      "source": [
        "sentence_sentiment.head()"
      ],
      "execution_count": 13,
      "outputs": [
        {
          "output_type": "execute_result",
          "data": {
            "text/html": [
              "<div>\n",
              "<style scoped>\n",
              "    .dataframe tbody tr th:only-of-type {\n",
              "        vertical-align: middle;\n",
              "    }\n",
              "\n",
              "    .dataframe tbody tr th {\n",
              "        vertical-align: top;\n",
              "    }\n",
              "\n",
              "    .dataframe thead th {\n",
              "        text-align: right;\n",
              "    }\n",
              "</style>\n",
              "<table border=\"1\" class=\"dataframe\">\n",
              "  <thead>\n",
              "    <tr style=\"text-align: right;\">\n",
              "      <th></th>\n",
              "      <th>sentence_index</th>\n",
              "      <th>sentence</th>\n",
              "      <th>phrase</th>\n",
              "      <th>phrase_id</th>\n",
              "      <th>sentiment_values</th>\n",
              "    </tr>\n",
              "  </thead>\n",
              "  <tbody>\n",
              "    <tr>\n",
              "      <th>0</th>\n",
              "      <td>1</td>\n",
              "      <td>The Rock is destined to be the 21st Century 's...</td>\n",
              "      <td>The Rock is destined to be the 21st Century 's...</td>\n",
              "      <td>226166</td>\n",
              "      <td>3</td>\n",
              "    </tr>\n",
              "    <tr>\n",
              "      <th>1</th>\n",
              "      <td>2</td>\n",
              "      <td>The gorgeously elaborate continuation of `` Th...</td>\n",
              "      <td>The gorgeously elaborate continuation of `` Th...</td>\n",
              "      <td>226300</td>\n",
              "      <td>4</td>\n",
              "    </tr>\n",
              "    <tr>\n",
              "      <th>2</th>\n",
              "      <td>3</td>\n",
              "      <td>Effective but too-tepid biopic</td>\n",
              "      <td>Effective but too-tepid biopic</td>\n",
              "      <td>13995</td>\n",
              "      <td>2</td>\n",
              "    </tr>\n",
              "    <tr>\n",
              "      <th>3</th>\n",
              "      <td>4</td>\n",
              "      <td>If you sometimes like to go to the movies to h...</td>\n",
              "      <td>If you sometimes like to go to the movies to h...</td>\n",
              "      <td>14123</td>\n",
              "      <td>3</td>\n",
              "    </tr>\n",
              "    <tr>\n",
              "      <th>4</th>\n",
              "      <td>5</td>\n",
              "      <td>Emerges as something rare , an issue movie tha...</td>\n",
              "      <td>Emerges as something rare , an issue movie tha...</td>\n",
              "      <td>13999</td>\n",
              "      <td>4</td>\n",
              "    </tr>\n",
              "  </tbody>\n",
              "</table>\n",
              "</div>"
            ],
            "text/plain": [
              "   sentence_index  ... sentiment_values\n",
              "0               1  ...                3\n",
              "1               2  ...                4\n",
              "2               3  ...                2\n",
              "3               4  ...                3\n",
              "4               5  ...                4\n",
              "\n",
              "[5 rows x 5 columns]"
            ]
          },
          "metadata": {
            "tags": []
          },
          "execution_count": 13
        }
      ]
    },
    {
      "cell_type": "code",
      "metadata": {
        "colab": {
          "base_uri": "https://localhost:8080/"
        },
        "id": "i3gCi4joW8pH",
        "outputId": "2a0544f8-41c3-4ddd-f31a-6ab599d2ad39"
      },
      "source": [
        "len(sentence_sentiment)"
      ],
      "execution_count": 14,
      "outputs": [
        {
          "output_type": "execute_result",
          "data": {
            "text/plain": [
              "11286"
            ]
          },
          "metadata": {
            "tags": []
          },
          "execution_count": 14
        }
      ]
    },
    {
      "cell_type": "markdown",
      "metadata": {
        "id": "XeQK3jCjrHVR"
      },
      "source": [
        "### To get the train test split, we will not use the train_test split dataset which has got the sentence index and split label and instead we will split the data into 70:30 ratio directly"
      ]
    },
    {
      "cell_type": "code",
      "metadata": {
        "id": "MUPonCHTq3QN"
      },
      "source": [
        "train_set, test_set = train_test_split(sentence_sentiment, test_size= .3, random_state= 42)"
      ],
      "execution_count": 15,
      "outputs": []
    },
    {
      "cell_type": "code",
      "metadata": {
        "colab": {
          "base_uri": "https://localhost:8080/"
        },
        "id": "Ljue6wo1s0nI",
        "outputId": "79ead6c3-d4ff-4e80-b254-4b5338dc38fd"
      },
      "source": [
        "train = train_set.drop(['sentence_index','phrase','phrase_id'],axis = 1)\n",
        "test = test_set.drop(['sentence_index','phrase','phrase_id'],axis = 1)\n",
        "train.reset_index(drop=True, inplace=True), test.reset_index(drop=True, inplace=True)"
      ],
      "execution_count": 16,
      "outputs": [
        {
          "output_type": "execute_result",
          "data": {
            "text/plain": [
              "(None, None)"
            ]
          },
          "metadata": {
            "tags": []
          },
          "execution_count": 16
        }
      ]
    },
    {
      "cell_type": "code",
      "metadata": {
        "colab": {
          "base_uri": "https://localhost:8080/"
        },
        "id": "VcQ4IS1jYak4",
        "outputId": "192b38dc-35fb-484d-cb32-8aba34d911d1"
      },
      "source": [
        "len(train), len(test)"
      ],
      "execution_count": 17,
      "outputs": [
        {
          "output_type": "execute_result",
          "data": {
            "text/plain": [
              "(7900, 3386)"
            ]
          },
          "metadata": {
            "tags": []
          },
          "execution_count": 17
        }
      ]
    },
    {
      "cell_type": "code",
      "metadata": {
        "colab": {
          "base_uri": "https://localhost:8080/",
          "height": 204
        },
        "id": "w6afBbIiuqCH",
        "outputId": "c84bce86-4a7e-450b-be2c-96010cc9cfbd"
      },
      "source": [
        "train.head()"
      ],
      "execution_count": 18,
      "outputs": [
        {
          "output_type": "execute_result",
          "data": {
            "text/html": [
              "<div>\n",
              "<style scoped>\n",
              "    .dataframe tbody tr th:only-of-type {\n",
              "        vertical-align: middle;\n",
              "    }\n",
              "\n",
              "    .dataframe tbody tr th {\n",
              "        vertical-align: top;\n",
              "    }\n",
              "\n",
              "    .dataframe thead th {\n",
              "        text-align: right;\n",
              "    }\n",
              "</style>\n",
              "<table border=\"1\" class=\"dataframe\">\n",
              "  <thead>\n",
              "    <tr style=\"text-align: right;\">\n",
              "      <th></th>\n",
              "      <th>sentence</th>\n",
              "      <th>sentiment_values</th>\n",
              "    </tr>\n",
              "  </thead>\n",
              "  <tbody>\n",
              "    <tr>\n",
              "      <th>0</th>\n",
              "      <td>But ticket-buyers with great expectations will...</td>\n",
              "      <td>0</td>\n",
              "    </tr>\n",
              "    <tr>\n",
              "      <th>1</th>\n",
              "      <td>Twenty years later , Reggio still knows how to...</td>\n",
              "      <td>2</td>\n",
              "    </tr>\n",
              "    <tr>\n",
              "      <th>2</th>\n",
              "      <td>`` 13 Conversations '' holds its goodwill clos...</td>\n",
              "      <td>2</td>\n",
              "    </tr>\n",
              "    <tr>\n",
              "      <th>3</th>\n",
              "      <td>For those of us who respond more strongly to s...</td>\n",
              "      <td>1</td>\n",
              "    </tr>\n",
              "    <tr>\n",
              "      <th>4</th>\n",
              "      <td>Moot point .</td>\n",
              "      <td>1</td>\n",
              "    </tr>\n",
              "  </tbody>\n",
              "</table>\n",
              "</div>"
            ],
            "text/plain": [
              "                                            sentence sentiment_values\n",
              "0  But ticket-buyers with great expectations will...                0\n",
              "1  Twenty years later , Reggio still knows how to...                2\n",
              "2  `` 13 Conversations '' holds its goodwill clos...                2\n",
              "3  For those of us who respond more strongly to s...                1\n",
              "4                                       Moot point .                1"
            ]
          },
          "metadata": {
            "tags": []
          },
          "execution_count": 18
        }
      ]
    },
    {
      "cell_type": "code",
      "metadata": {
        "colab": {
          "base_uri": "https://localhost:8080/"
        },
        "id": "3rUtfeO1u_PR",
        "outputId": "d6068ece-1a24-49fe-95d6-0e0881976e02"
      },
      "source": [
        "train['sentiment_values'].value_counts()"
      ],
      "execution_count": 19,
      "outputs": [
        {
          "output_type": "execute_result",
          "data": {
            "text/plain": [
              "1    2077\n",
              "3    2058\n",
              "2    1528\n",
              "4    1219\n",
              "0    1018\n",
              "Name: sentiment_values, dtype: int64"
            ]
          },
          "metadata": {
            "tags": []
          },
          "execution_count": 19
        }
      ]
    },
    {
      "cell_type": "code",
      "metadata": {
        "colab": {
          "base_uri": "https://localhost:8080/",
          "height": 405
        },
        "id": "ZqHth4orvEdk",
        "outputId": "bb8eab8b-695d-4979-8849-4a1d03346c56"
      },
      "source": [
        "fig = plt.figure(figsize=(8,6))\n",
        "\n",
        "ax = sns.barplot(x=train['sentiment_values'].unique(), y=train['sentiment_values'].value_counts())\n",
        "\n",
        "ax.set(xlabel = 'Sentiment Value')"
      ],
      "execution_count": 20,
      "outputs": [
        {
          "output_type": "execute_result",
          "data": {
            "text/plain": [
              "[Text(0.5, 0, 'Sentiment Value')]"
            ]
          },
          "metadata": {
            "tags": []
          },
          "execution_count": 20
        },
        {
          "output_type": "display_data",
          "data": {
            "image/png": "[encoded data removed]",
            "text/plain": [
              "<Figure size 576x432 with 1 Axes>"
            ]
          },
          "metadata": {
            "tags": [],
            "needs_background": "light"
          }
        }
      ]
    },
    {
      "cell_type": "markdown",
      "metadata": {
        "id": "JYpuF1SsZQ-n"
      },
      "source": [
        "## Tokenize the data"
      ]
    },
    {
      "cell_type": "code",
      "metadata": {
        "id": "I-sNx8M6vV-X"
      },
      "source": [
        "train.to_csv('train.csv', index=False)\n",
        "test.to_csv('test.csv', index=False)"
      ],
      "execution_count": 21,
      "outputs": []
    },
    {
      "cell_type": "code",
      "metadata": {
        "id": "a2wWOj1n-FD7"
      },
      "source": [
        "def text_clean(text):\n",
        "  text = re.sub(r'[^A-Za-z0-9_-]+', ' ', text)\n",
        "  text = re.sub(r'https?:/\\/\\S+', ' ', text)\n",
        "\n",
        "  return(text.strip())"
      ],
      "execution_count": 22,
      "outputs": []
    },
    {
      "cell_type": "code",
      "metadata": {
        "id": "lnEiRUvgZZka"
      },
      "source": [
        "nlp = spacy.load('en', disable = ['parser', 'tagger', 'ner'])\n",
        "def tokenizer(s):\n",
        "  return [w.text.lower() for w in nlp(text_clean(s))]"
      ],
      "execution_count": 23,
      "outputs": []
    },
    {
      "cell_type": "code",
      "metadata": {
        "id": "4BIT1XrPZaux"
      },
      "source": [
        "TEXT = torchtext.legacy.data.Field(tokenize = tokenizer)\n",
        "\n",
        "LABEL = torchtext.legacy.data.LabelField(dtype = torch.float)"
      ],
      "execution_count": 24,
      "outputs": []
    },
    {
      "cell_type": "code",
      "metadata": {
        "id": "Otcywxi3Zcej"
      },
      "source": [
        "datafields = [('sentence', TEXT), ('sentiment_values', LABEL)]"
      ],
      "execution_count": 25,
      "outputs": []
    },
    {
      "cell_type": "code",
      "metadata": {
        "id": "hK0GILrqZdtM"
      },
      "source": [
        "trn, tst = torchtext.legacy.data.TabularDataset.splits(path='/content/session9a',\n",
        "                                                       train = 'train.csv',\n",
        "                                                       test = 'test.csv',\n",
        "                                                       format = 'csv',\n",
        "                                                       skip_header = True,\n",
        "                                                       fields = datafields\n",
        "                                                       )"
      ],
      "execution_count": 28,
      "outputs": []
    },
    {
      "cell_type": "code",
      "metadata": {
        "colab": {
          "base_uri": "https://localhost:8080/"
        },
        "id": "ufTddC2dZpt1",
        "outputId": "5cfe2382-7ca9-4e13-ad45-8f94cce7ee24"
      },
      "source": [
        "trn[:5]"
      ],
      "execution_count": 29,
      "outputs": [
        {
          "output_type": "execute_result",
          "data": {
            "text/plain": [
              "[<torchtext.legacy.data.example.Example at 0x7f2a47668b10>,\n",
              " <torchtext.legacy.data.example.Example at 0x7f2a47668890>,\n",
              " <torchtext.legacy.data.example.Example at 0x7f2a47668a90>,\n",
              " <torchtext.legacy.data.example.Example at 0x7f2a467130d0>,\n",
              " <torchtext.legacy.data.example.Example at 0x7f2a47668790>]"
            ]
          },
          "metadata": {
            "tags": []
          },
          "execution_count": 29
        }
      ]
    },
    {
      "cell_type": "code",
      "metadata": {
        "colab": {
          "base_uri": "https://localhost:8080/"
        },
        "id": "JdH7X8gaZ7ol",
        "outputId": "f4ed7fd7-2fe3-4646-d22c-e80185a6a8f6"
      },
      "source": [
        "print(f'Number of examples in training {len(trn)}')\n",
        "print(f'Number of examples in test {len(tst)}')"
      ],
      "execution_count": 30,
      "outputs": [
        {
          "output_type": "stream",
          "text": [
            "Number of examples in training 7900\n",
            "Number of examples in test 3386\n"
          ],
          "name": "stdout"
        }
      ]
    },
    {
      "cell_type": "code",
      "metadata": {
        "colab": {
          "base_uri": "https://localhost:8080/"
        },
        "id": "7Xi-XAJWZ9AM",
        "outputId": "a3f78a35-49e3-4b79-da71-365ce251cbd4"
      },
      "source": [
        "trn[5].__dict__.keys()"
      ],
      "execution_count": 31,
      "outputs": [
        {
          "output_type": "execute_result",
          "data": {
            "text/plain": [
              "dict_keys(['sentence', 'sentiment_values'])"
            ]
          },
          "metadata": {
            "tags": []
          },
          "execution_count": 31
        }
      ]
    },
    {
      "cell_type": "code",
      "metadata": {
        "colab": {
          "base_uri": "https://localhost:8080/"
        },
        "id": "542Lod8_Z-pj",
        "outputId": "df6d5ac4-b2bc-491a-af85-66fbb573c701"
      },
      "source": [
        "print(vars(trn[5]))"
      ],
      "execution_count": 32,
      "outputs": [
        {
          "output_type": "stream",
          "text": [
            "{'sentence': ['it', 'offers', 'a', 'glimpse', 'of', 'the', 'solomonic', 'decision', 'facing', 'jewish', 'parents', 'in', 'those', 'turbulent', 'times', 'to', 'save', 'their', 'children', 'and', 'yet', 'to', 'lose', 'them'], 'sentiment_values': '3'}\n"
          ],
          "name": "stdout"
        }
      ]
    },
    {
      "cell_type": "code",
      "metadata": {
        "id": "ERV9SykVZ_ye"
      },
      "source": [
        "words = [0 + len(t.sentence) for t in trn]"
      ],
      "execution_count": 33,
      "outputs": []
    },
    {
      "cell_type": "code",
      "metadata": {
        "colab": {
          "base_uri": "https://localhost:8080/"
        },
        "id": "y1WHg-aFaBIs",
        "outputId": "aa0cd91e-d792-455a-90f6-cf19c8d9a3e9"
      },
      "source": [
        "sum(words)"
      ],
      "execution_count": 34,
      "outputs": [
        {
          "output_type": "execute_result",
          "data": {
            "text/plain": [
              "138717"
            ]
          },
          "metadata": {
            "tags": []
          },
          "execution_count": 34
        }
      ]
    },
    {
      "cell_type": "markdown",
      "metadata": {
        "id": "DSP_pRCvaWH1"
      },
      "source": [
        "## Create Vocab"
      ]
    },
    {
      "cell_type": "code",
      "metadata": {
        "colab": {
          "base_uri": "https://localhost:8080/"
        },
        "id": "zMInKoNBaCna",
        "outputId": "381e56db-25a6-4c0b-eeff-24c4c5b205be"
      },
      "source": [
        "TEXT.build_vocab(trn, max_size = 7750,\n",
        "                 vectors = \"glove.6B.100d\",\n",
        "                 unk_init = torch.Tensor.normal_,\n",
        "                 min_freq = 2 )\n",
        "\n",
        "LABEL.build_vocab(trn) "
      ],
      "execution_count": 35,
      "outputs": [
        {
          "output_type": "stream",
          "text": [
            ".vector_cache/glove.6B.zip: 862MB [02:40, 5.38MB/s]                           \n",
            "100%|█████████▉| 399013/400000 [00:14<00:00, 28084.78it/s]"
          ],
          "name": "stderr"
        }
      ]
    },
    {
      "cell_type": "code",
      "metadata": {
        "colab": {
          "base_uri": "https://localhost:8080/"
        },
        "id": "NKUPFK1JaRqE",
        "outputId": "6abce02d-7999-45c4-9cbf-ef10eee1eb7d"
      },
      "source": [
        "print(TEXT.vocab.freqs.most_common(50))"
      ],
      "execution_count": 36,
      "outputs": [
        {
          "output_type": "stream",
          "text": [
            "[('the', 6709), ('a', 4840), ('and', 4097), ('of', 4028), ('to', 2841), ('-', 2545), ('s', 2340), ('is', 2329), ('it', 2304), ('that', 1812), ('in', 1755), ('as', 1183), ('but', 1091), ('film', 1041), ('with', 1033), ('this', 963), ('for', 952), ('movie', 923), ('an', 872), ('its', 869), ('you', 780), ('t', 649), ('n', 638), ('be', 626), ('on', 604), ('not', 566), ('by', 553), ('one', 528), ('more', 494), ('are', 486), ('--', 486), ('like', 481), ('at', 476), ('about', 476), ('has', 468), ('from', 455), ('all', 453), ('than', 449), ('have', 431), ('his', 411), ('i', 407), ('so', 383), ('if', 378), ('story', 330), ('or', 323), ('too', 313), ('there', 312), ('up', 304), ('what', 302), ('out', 296)]\n"
          ],
          "name": "stdout"
        }
      ]
    },
    {
      "cell_type": "code",
      "metadata": {
        "colab": {
          "base_uri": "https://localhost:8080/"
        },
        "id": "ZwIOM1uIaZiW",
        "outputId": "b5b85350-244f-4423-c15e-de2b7db2163b"
      },
      "source": [
        "print(TEXT.vocab.itos[:10])"
      ],
      "execution_count": 37,
      "outputs": [
        {
          "output_type": "stream",
          "text": [
            "['<unk>', '<pad>', 'the', 'a', 'and', 'of', 'to', '-', 's', 'is']\n"
          ],
          "name": "stdout"
        }
      ]
    },
    {
      "cell_type": "code",
      "metadata": {
        "colab": {
          "base_uri": "https://localhost:8080/"
        },
        "id": "oIhvqRG-abtW",
        "outputId": "9a6a1af0-5195-4e60-f991-456d773abeae"
      },
      "source": [
        "print(LABEL.vocab.stoi)"
      ],
      "execution_count": 38,
      "outputs": [
        {
          "output_type": "stream",
          "text": [
            "defaultdict(None, {'1': 0, '3': 1, '2': 2, '4': 3, '0': 4})\n"
          ],
          "name": "stdout"
        }
      ]
    },
    {
      "cell_type": "markdown",
      "metadata": {
        "id": "81LIKH_CahNk"
      },
      "source": [
        "# Create train and test iterators"
      ]
    },
    {
      "cell_type": "code",
      "metadata": {
        "id": "pK0qfZxuacvC"
      },
      "source": [
        "BATCH_SIZE = 128\n",
        "\n",
        "device = torch.device('cuda' if torch.cuda.is_available() else 'cpu')\n",
        "\n",
        "train_iterator, test_iterator = torchtext.legacy.data.BucketIterator.splits(\n",
        "                                                                            (trn, tst),\n",
        "                                                                            batch_size = BATCH_SIZE,\n",
        "                                                                            sort_key = lambda x: len(x.sentence),\n",
        "                                                                            sort_within_batch= True, \n",
        "                                                                            device = device)"
      ],
      "execution_count": 49,
      "outputs": []
    },
    {
      "cell_type": "markdown",
      "metadata": {
        "id": "H-_6Q_Ouaqn5"
      },
      "source": [
        "# Define Network"
      ]
    },
    {
      "cell_type": "code",
      "metadata": {
        "id": "v1liUDAcanDT"
      },
      "source": [
        "class RNN(nn.Module):\n",
        "  \n",
        "  def __init__(self, vocab_size, embedding_dim, hidden_dim, output_dim, n_layers, bidirectional, dropout):\n",
        "    \n",
        "    super().__init__()\n",
        "\n",
        "    self.embedding = nn.Embedding(vocab_size, embedding_dim)\n",
        "\n",
        "    self.rnn = nn.GRU(embedding_dim, hidden_dim, num_layers = n_layers,\n",
        "                      bidirectional = bidirectional, dropout = dropout )\n",
        "    \n",
        "    self.fc = nn.Linear(hidden_dim*2, output_dim)\n",
        "\n",
        "    self.dropout = nn.Dropout(dropout)\n",
        "\n",
        "  def forward(self, text):\n",
        "\n",
        "    embedded =  self.dropout(self.embedding(text))\n",
        "\n",
        "    output, hidden = self.rnn(embedded)\n",
        "\n",
        "    hidden = self.dropout(torch.cat((hidden[-2,:,:], hidden[-1,:,:]), dim=1))\n",
        "\n",
        "    return self.fc(hidden.squeeze(0))"
      ],
      "execution_count": 50,
      "outputs": []
    },
    {
      "cell_type": "markdown",
      "metadata": {
        "id": "3xXLN26EavlK"
      },
      "source": [
        "## Set Network Parameters"
      ]
    },
    {
      "cell_type": "code",
      "metadata": {
        "id": "NWvinDmXat1f"
      },
      "source": [
        "input_dim = len(TEXT.vocab)\n",
        "\n",
        "embedding_dim = 100\n",
        "\n",
        "hidden_dim  = 256\n",
        "\n",
        "output_dim = 5\n",
        "\n",
        "num_layers = 2\n",
        "\n",
        "bidirectional = True\n",
        "\n",
        "dropout = .3"
      ],
      "execution_count": 51,
      "outputs": []
    },
    {
      "cell_type": "markdown",
      "metadata": {
        "id": "ctL2cajwa44r"
      },
      "source": [
        "## Create Model"
      ]
    },
    {
      "cell_type": "code",
      "metadata": {
        "id": "86Gws6REa1ST"
      },
      "source": [
        "model = RNN(input_dim, \n",
        "            embedding_dim,\n",
        "            hidden_dim,\n",
        "            output_dim,\n",
        "            num_layers,\n",
        "            bidirectional,\n",
        "            dropout)"
      ],
      "execution_count": 52,
      "outputs": []
    },
    {
      "cell_type": "code",
      "metadata": {
        "colab": {
          "base_uri": "https://localhost:8080/"
        },
        "id": "8wnTtUEDa9GV",
        "outputId": "3341988c-e2fb-417a-baea-feb984823661"
      },
      "source": [
        "model"
      ],
      "execution_count": 53,
      "outputs": [
        {
          "output_type": "execute_result",
          "data": {
            "text/plain": [
              "RNN(\n",
              "  (embedding): Embedding(7752, 100)\n",
              "  (rnn): GRU(100, 256, num_layers=2, dropout=0.3, bidirectional=True)\n",
              "  (fc): Linear(in_features=512, out_features=5, bias=True)\n",
              "  (dropout): Dropout(p=0.3, inplace=False)\n",
              ")"
            ]
          },
          "metadata": {
            "tags": []
          },
          "execution_count": 53
        }
      ]
    },
    {
      "cell_type": "markdown",
      "metadata": {
        "id": "dGdhJBd0dp3w"
      },
      "source": [
        "## Use the pretrained GloVe embedddings"
      ]
    },
    {
      "cell_type": "code",
      "metadata": {
        "colab": {
          "base_uri": "https://localhost:8080/"
        },
        "id": "LGT3ozIya-fL",
        "outputId": "7bcaf187-b88b-48d2-f6f7-c8454fd67a69"
      },
      "source": [
        "pretrained_embeddings = TEXT.vocab.vectors\n",
        "print(pretrained_embeddings.shape)"
      ],
      "execution_count": 54,
      "outputs": [
        {
          "output_type": "stream",
          "text": [
            "torch.Size([7752, 100])\n"
          ],
          "name": "stdout"
        }
      ]
    },
    {
      "cell_type": "code",
      "metadata": {
        "colab": {
          "base_uri": "https://localhost:8080/"
        },
        "id": "S7OpogmqdoEb",
        "outputId": "3cf92dd8-8336-449d-c44e-34f1f67bece0"
      },
      "source": [
        "model.embedding.weight.data.copy_(pretrained_embeddings)"
      ],
      "execution_count": 55,
      "outputs": [
        {
          "output_type": "execute_result",
          "data": {
            "text/plain": [
              "tensor([[ 0.6427,  0.6800, -1.8872,  ...,  0.9138,  0.4621,  1.5506],\n",
              "        [-0.7111,  0.9651,  0.7036,  ...,  0.5789, -0.8023, -0.1499],\n",
              "        [-0.0382, -0.2449,  0.7281,  ..., -0.1459,  0.8278,  0.2706],\n",
              "        ...,\n",
              "        [ 0.2654,  0.5014,  0.7789,  ..., -0.0487,  0.0765,  0.2981],\n",
              "        [ 0.2592,  0.2430,  0.5118,  ..., -0.1500,  0.1554,  0.4434],\n",
              "        [-0.1209,  0.5292, -0.4785,  ..., -0.5071,  0.8777,  0.2767]])"
            ]
          },
          "metadata": {
            "tags": []
          },
          "execution_count": 55
        }
      ]
    },
    {
      "cell_type": "code",
      "metadata": {
        "colab": {
          "base_uri": "https://localhost:8080/"
        },
        "id": "_kKkJ5cpeb_4",
        "outputId": "3bf56689-16fe-4e37-d097-ceba2177acf3"
      },
      "source": [
        "unk_idx = TEXT.vocab.stoi[TEXT.unk_token]\n",
        "pad_idx = TEXT.vocab.stoi[TEXT.pad_token]\n",
        "\n",
        "model.embedding.weight.data[unk_idx] = torch.zeros(embedding_dim)\n",
        "model.embedding.weight.data[pad_idx] = torch.zeros(embedding_dim)\n",
        "\n",
        "print(model.embedding.weight.data)"
      ],
      "execution_count": 56,
      "outputs": [
        {
          "output_type": "stream",
          "text": [
            "tensor([[ 0.0000,  0.0000,  0.0000,  ...,  0.0000,  0.0000,  0.0000],\n",
            "        [ 0.0000,  0.0000,  0.0000,  ...,  0.0000,  0.0000,  0.0000],\n",
            "        [-0.0382, -0.2449,  0.7281,  ..., -0.1459,  0.8278,  0.2706],\n",
            "        ...,\n",
            "        [ 0.2654,  0.5014,  0.7789,  ..., -0.0487,  0.0765,  0.2981],\n",
            "        [ 0.2592,  0.2430,  0.5118,  ..., -0.1500,  0.1554,  0.4434],\n",
            "        [-0.1209,  0.5292, -0.4785,  ..., -0.5071,  0.8777,  0.2767]])\n"
          ],
          "name": "stdout"
        }
      ]
    },
    {
      "cell_type": "code",
      "metadata": {
        "colab": {
          "base_uri": "https://localhost:8080/"
        },
        "id": "76mGFa2DedNT",
        "outputId": "cbb50c43-3117-440e-e911-a6169e734fb2"
      },
      "source": [
        "def count_parameters(model):\n",
        "    return sum(p.numel() for p in model.parameters() if p.requires_grad)\n",
        "\n",
        "print(f'The model has {count_parameters(model):,} trainable parameters')"
      ],
      "execution_count": 57,
      "outputs": [
        {
          "output_type": "stream",
          "text": [
            "The model has 2,510,373 trainable parameters\n"
          ],
          "name": "stdout"
        }
      ]
    },
    {
      "cell_type": "code",
      "metadata": {
        "id": "1_rpDSuYegTr"
      },
      "source": [
        "optimizer = optim.Adam(model.parameters(), lr = 1e-5)\n",
        "criterion = nn.CrossEntropyLoss()"
      ],
      "execution_count": 58,
      "outputs": []
    },
    {
      "cell_type": "code",
      "metadata": {
        "id": "ZcpIeRLPeiLN"
      },
      "source": [
        "# define metric\n",
        "def binary_accuracy(preds, y):\n",
        "    #round predictions to the closest integer\n",
        "    _, predictions = torch.max(preds, 1)\n",
        "    \n",
        "    correct = (predictions == y).float() \n",
        "    acc = correct.sum() / len(correct)\n",
        "\n",
        "    predict = predictions\n",
        "\n",
        "    return acc, predict\n",
        "    \n",
        "# push to cuda if available\n",
        "model = model.to(device)\n",
        "criterion = criterion.to(device)"
      ],
      "execution_count": 102,
      "outputs": []
    },
    {
      "cell_type": "code",
      "metadata": {
        "id": "Guklstr_ejfU"
      },
      "source": [
        "def train(model, iterator, optimizer, criterion):\n",
        "    \n",
        "    # initialize every epoch \n",
        "    epoch_loss = 0\n",
        "    epoch_acc = 0\n",
        "    \n",
        "    # set the model in training phase\n",
        "    model.train()  \n",
        "    \n",
        "    for i, batch in enumerate(iterator):\n",
        "        \n",
        "        # resets the gradients after every batch\n",
        "        optimizer.zero_grad()   \n",
        "               \n",
        "        # convert to 1D tensor\n",
        "        predictions = model(batch.sentence).squeeze(1)\n",
        "\n",
        "        # compute the loss\n",
        "        loss = criterion(predictions, batch.sentiment_values.long())        \n",
        "        \n",
        "        # compute the binary accuracy\n",
        "        acc , predict = binary_accuracy(predictions, batch.sentiment_values.long())   \n",
        "\n",
        "        # create per epoch actual and prediction tensor\n",
        "        if i > 0:\n",
        "          y_pred = torch.cat((y_pred,predict), dim=0)\n",
        "          X = torch.cat((X,batch.sentiment_values.long()), dim=0)\n",
        "        else:\n",
        "          y_pred = predict\n",
        "          X = batch.sentiment_values.long()\n",
        "        \n",
        "        # backpropage the loss and compute the gradients\n",
        "        loss.backward()       \n",
        "        \n",
        "        # update the weights\n",
        "        optimizer.step()      \n",
        "        \n",
        "        # loss and accuracy\n",
        "        epoch_loss += loss.item()  \n",
        "        epoch_acc += acc.item()    \n",
        "        \n",
        "    return epoch_loss / len(iterator), epoch_acc / len(iterator), X, y_pred"
      ],
      "execution_count": 111,
      "outputs": []
    },
    {
      "cell_type": "code",
      "metadata": {
        "id": "MrbXzBjGelrQ"
      },
      "source": [
        "def evaluate(model, iterator, criterion):\n",
        "    \n",
        "    # initialize every epoch\n",
        "    epoch_loss = 0\n",
        "    epoch_acc = 0\n",
        "\n",
        "    # deactivating dropout layers\n",
        "    model.eval()\n",
        "    \n",
        "    # deactivates autograd\n",
        "    with torch.no_grad():\n",
        "    \n",
        "        for batch in iterator:\n",
        "                   \n",
        "            # convert to 1d tensor\n",
        "            predictions = model(batch.sentence).squeeze(1)\n",
        "            \n",
        "            # compute loss and accuracy\n",
        "            loss = criterion(predictions, batch.sentiment_values.long())\n",
        "            acc, _ = binary_accuracy(predictions, batch.sentiment_values.long())\n",
        "            \n",
        "            # keep track of loss and accuracy\n",
        "            epoch_loss += loss.item()\n",
        "            epoch_acc += acc.item()\n",
        "        \n",
        "    return epoch_loss / len(iterator), epoch_acc / len(iterator)"
      ],
      "execution_count": 112,
      "outputs": []
    },
    {
      "cell_type": "code",
      "metadata": {
        "colab": {
          "base_uri": "https://localhost:8080/"
        },
        "id": "zO2U20txenNm",
        "outputId": "89919ffa-e6c4-4432-9ce5-9fe1370e32d2"
      },
      "source": [
        "N_EPOCHS = 20\n",
        "\n",
        "best_test_loss = float('inf')\n",
        "\n",
        "trn_loss = [] \n",
        "trn_acc = []\n",
        "tst_loss = [] \n",
        "tst_acc = [] \n",
        "\n",
        "target = [\"very negative\", \"negative\", \"neutral\", \"positive\", \"very positive\"]\n",
        "\n",
        "for epoch in range(N_EPOCHS):\n",
        "\n",
        "    if epoch > 80:\n",
        "      optimizer = optim.Adam(model.parameters(), lr = 1e-4)\n",
        "     \n",
        "    # train the model\n",
        "    train_loss, train_acc,actual, predict = train(model, train_iterator, optimizer, criterion)\n",
        "    trn_loss.append(train_loss)\n",
        "    trn_acc.append(train_acc*100)\n",
        "    \n",
        "    # evaluate the model\n",
        "    test_loss, test_acc = evaluate(model, test_iterator, criterion)\n",
        "    tst_loss.append(test_loss)\n",
        "    tst_acc.append(test_acc*100)\n",
        "    \n",
        "    print(f'Epoch: {epoch+1}')\n",
        "    print(f'\\tTrain Loss: {train_loss:.3f} | Train Acc: {train_acc*100:.2f}%')\n",
        "    print(f'\\t Val. Loss: {test_loss:.3f} |  Val. Acc: {test_acc*100:.2f}% \\n')\n",
        "\n",
        "    actual = actual.to('cpu')\n",
        "    predict = predict.to('cpu')  \n",
        "    print(classification_report(actual,predict, target_names = target))"
      ],
      "execution_count": 115,
      "outputs": [
        {
          "output_type": "stream",
          "text": [
            "Epoch: 1\n",
            "\tTrain Loss: 1.540 | Train Acc: 32.53%\n",
            "\t Val. Loss: 1.540 |  Val. Acc: 32.77% \n",
            "\n",
            "               precision    recall  f1-score   support\n",
            "\n",
            "very negative       0.33      0.65      0.43      2077\n",
            "     negative       0.32      0.59      0.42      2058\n",
            "      neutral       1.00      0.00      0.00      1528\n",
            "     positive       0.48      0.01      0.02      1219\n",
            "very positive       0.00      0.00      0.00      1018\n",
            "\n",
            "     accuracy                           0.33      7900\n",
            "    macro avg       0.43      0.25      0.17      7900\n",
            " weighted avg       0.44      0.33      0.23      7900\n",
            "\n"
          ],
          "name": "stdout"
        },
        {
          "output_type": "stream",
          "text": [
            "/usr/local/lib/python3.7/dist-packages/sklearn/metrics/_classification.py:1272: UndefinedMetricWarning: Precision and F-score are ill-defined and being set to 0.0 in labels with no predicted samples. Use `zero_division` parameter to control this behavior.\n",
            "  _warn_prf(average, modifier, msg_start, len(result))\n"
          ],
          "name": "stderr"
        },
        {
          "output_type": "stream",
          "text": [
            "Epoch: 2\n",
            "\tTrain Loss: 1.535 | Train Acc: 32.64%\n",
            "\t Val. Loss: 1.535 |  Val. Acc: 33.35% \n",
            "\n",
            "               precision    recall  f1-score   support\n",
            "\n",
            "very negative       0.33      0.59      0.43      2077\n",
            "     negative       0.32      0.65      0.43      2058\n",
            "      neutral       0.50      0.00      0.00      1528\n",
            "     positive       0.46      0.01      0.03      1219\n",
            "very positive       0.00      0.00      0.00      1018\n",
            "\n",
            "     accuracy                           0.33      7900\n",
            "    macro avg       0.32      0.25      0.18      7900\n",
            " weighted avg       0.34      0.33      0.23      7900\n",
            "\n",
            "Epoch: 3\n",
            "\tTrain Loss: 1.531 | Train Acc: 32.76%\n",
            "\t Val. Loss: 1.530 |  Val. Acc: 33.35% \n",
            "\n",
            "               precision    recall  f1-score   support\n",
            "\n",
            "very negative       0.33      0.61      0.43      2077\n",
            "     negative       0.32      0.63      0.43      2058\n",
            "      neutral       0.00      0.00      0.00      1528\n",
            "     positive       0.53      0.02      0.03      1219\n",
            "very positive       0.00      0.00      0.00      1018\n",
            "\n",
            "     accuracy                           0.33      7900\n",
            "    macro avg       0.24      0.25      0.18      7900\n",
            " weighted avg       0.25      0.33      0.23      7900\n",
            "\n",
            "Epoch: 4\n",
            "\tTrain Loss: 1.524 | Train Acc: 33.28%\n",
            "\t Val. Loss: 1.524 |  Val. Acc: 33.41% \n",
            "\n",
            "               precision    recall  f1-score   support\n",
            "\n",
            "very negative       0.34      0.63      0.44      2077\n",
            "     negative       0.33      0.62      0.43      2058\n",
            "      neutral       1.00      0.00      0.00      1528\n",
            "     positive       0.49      0.03      0.05      1219\n",
            "very positive       0.00      0.00      0.00      1018\n",
            "\n",
            "     accuracy                           0.33      7900\n",
            "    macro avg       0.43      0.26      0.18      7900\n",
            " weighted avg       0.44      0.33      0.24      7900\n",
            "\n",
            "Epoch: 5\n",
            "\tTrain Loss: 1.514 | Train Acc: 33.65%\n",
            "\t Val. Loss: 1.516 |  Val. Acc: 33.79% \n",
            "\n",
            "               precision    recall  f1-score   support\n",
            "\n",
            "very negative       0.34      0.64      0.44      2077\n",
            "     negative       0.33      0.62      0.43      2058\n",
            "      neutral       0.50      0.00      0.00      1528\n",
            "     positive       0.55      0.04      0.08      1219\n",
            "very positive       0.00      0.00      0.00      1018\n",
            "\n",
            "     accuracy                           0.34      7900\n",
            "    macro avg       0.34      0.26      0.19      7900\n",
            " weighted avg       0.36      0.34      0.24      7900\n",
            "\n",
            "Epoch: 6\n",
            "\tTrain Loss: 1.507 | Train Acc: 33.73%\n",
            "\t Val. Loss: 1.508 |  Val. Acc: 34.23% \n",
            "\n",
            "               precision    recall  f1-score   support\n",
            "\n",
            "very negative       0.34      0.64      0.45      2077\n",
            "     negative       0.32      0.62      0.43      2058\n",
            "      neutral       0.50      0.00      0.01      1528\n",
            "     positive       0.52      0.05      0.08      1219\n",
            "very positive       0.00      0.00      0.00      1018\n",
            "\n",
            "     accuracy                           0.34      7900\n",
            "    macro avg       0.34      0.26      0.19      7900\n",
            " weighted avg       0.35      0.34      0.24      7900\n",
            "\n",
            "Epoch: 7\n",
            "\tTrain Loss: 1.495 | Train Acc: 34.75%\n",
            "\t Val. Loss: 1.496 |  Val. Acc: 34.61% \n",
            "\n",
            "               precision    recall  f1-score   support\n",
            "\n",
            "very negative       0.35      0.66      0.46      2077\n",
            "     negative       0.34      0.63      0.44      2058\n",
            "      neutral       0.43      0.00      0.00      1528\n",
            "     positive       0.52      0.06      0.10      1219\n",
            "very positive       1.00      0.00      0.00      1018\n",
            "\n",
            "     accuracy                           0.35      7900\n",
            "    macro avg       0.53      0.27      0.20      7900\n",
            " weighted avg       0.47      0.35      0.25      7900\n",
            "\n",
            "Epoch: 8\n",
            "\tTrain Loss: 1.483 | Train Acc: 34.83%\n",
            "\t Val. Loss: 1.483 |  Val. Acc: 35.08% \n",
            "\n",
            "               precision    recall  f1-score   support\n",
            "\n",
            "very negative       0.34      0.68      0.46      2077\n",
            "     negative       0.34      0.61      0.44      2058\n",
            "      neutral       0.00      0.00      0.00      1528\n",
            "     positive       0.52      0.08      0.14      1219\n",
            "very positive       0.00      0.00      0.00      1018\n",
            "\n",
            "     accuracy                           0.35      7900\n",
            "    macro avg       0.24      0.27      0.21      7900\n",
            " weighted avg       0.26      0.35      0.26      7900\n",
            "\n",
            "Epoch: 9\n",
            "\tTrain Loss: 1.471 | Train Acc: 35.10%\n",
            "\t Val. Loss: 1.469 |  Val. Acc: 35.70% \n",
            "\n",
            "               precision    recall  f1-score   support\n",
            "\n",
            "very negative       0.35      0.67      0.46      2077\n",
            "     negative       0.34      0.61      0.44      2058\n",
            "      neutral       0.33      0.00      0.00      1528\n",
            "     positive       0.54      0.12      0.19      1219\n",
            "very positive       0.00      0.00      0.00      1018\n",
            "\n",
            "     accuracy                           0.35      7900\n",
            "    macro avg       0.31      0.28      0.22      7900\n",
            " weighted avg       0.33      0.35      0.26      7900\n",
            "\n",
            "Epoch: 10\n",
            "\tTrain Loss: 1.458 | Train Acc: 36.05%\n",
            "\t Val. Loss: 1.457 |  Val. Acc: 36.31% \n",
            "\n",
            "               precision    recall  f1-score   support\n",
            "\n",
            "very negative       0.36      0.68      0.47      2077\n",
            "     negative       0.35      0.59      0.44      2058\n",
            "      neutral       0.57      0.00      0.01      1528\n",
            "     positive       0.52      0.18      0.27      1219\n",
            "very positive       0.00      0.00      0.00      1018\n",
            "\n",
            "     accuracy                           0.36      7900\n",
            "    macro avg       0.36      0.29      0.24      7900\n",
            " weighted avg       0.37      0.36      0.28      7900\n",
            "\n",
            "Epoch: 11\n",
            "\tTrain Loss: 1.449 | Train Acc: 35.94%\n",
            "\t Val. Loss: 1.450 |  Val. Acc: 36.43% \n",
            "\n",
            "               precision    recall  f1-score   support\n",
            "\n",
            "very negative       0.35      0.68      0.46      2077\n",
            "     negative       0.34      0.57      0.43      2058\n",
            "      neutral       0.60      0.00      0.01      1528\n",
            "     positive       0.54      0.20      0.29      1219\n",
            "very positive       0.00      0.00      0.00      1018\n",
            "\n",
            "     accuracy                           0.36      7900\n",
            "    macro avg       0.37      0.29      0.24      7900\n",
            " weighted avg       0.38      0.36      0.28      7900\n",
            "\n",
            "Epoch: 12\n",
            "\tTrain Loss: 1.438 | Train Acc: 36.75%\n",
            "\t Val. Loss: 1.438 |  Val. Acc: 36.91% \n",
            "\n",
            "               precision    recall  f1-score   support\n",
            "\n",
            "very negative       0.36      0.71      0.47      2077\n",
            "     negative       0.36      0.56      0.43      2058\n",
            "      neutral       0.47      0.00      0.01      1528\n",
            "     positive       0.53      0.23      0.32      1219\n",
            "very positive       0.00      0.00      0.00      1018\n",
            "\n",
            "     accuracy                           0.37      7900\n",
            "    macro avg       0.34      0.30      0.25      7900\n",
            " weighted avg       0.36      0.37      0.29      7900\n",
            "\n",
            "Epoch: 13\n",
            "\tTrain Loss: 1.430 | Train Acc: 37.16%\n",
            "\t Val. Loss: 1.433 |  Val. Acc: 36.93% \n",
            "\n",
            "               precision    recall  f1-score   support\n",
            "\n",
            "very negative       0.36      0.71      0.48      2077\n",
            "     negative       0.35      0.55      0.43      2058\n",
            "      neutral       0.48      0.01      0.02      1528\n",
            "     positive       0.53      0.26      0.35      1219\n",
            "very positive       0.00      0.00      0.00      1018\n",
            "\n",
            "     accuracy                           0.37      7900\n",
            "    macro avg       0.35      0.31      0.26      7900\n",
            " weighted avg       0.36      0.37      0.30      7900\n",
            "\n",
            "Epoch: 14\n",
            "\tTrain Loss: 1.420 | Train Acc: 38.00%\n",
            "\t Val. Loss: 1.427 |  Val. Acc: 37.17% \n",
            "\n",
            "               precision    recall  f1-score   support\n",
            "\n",
            "very negative       0.36      0.72      0.48      2077\n",
            "     negative       0.37      0.55      0.44      2058\n",
            "      neutral       0.43      0.01      0.01      1528\n",
            "     positive       0.54      0.30      0.38      1219\n",
            "very positive       0.50      0.00      0.00      1018\n",
            "\n",
            "     accuracy                           0.38      7900\n",
            "    macro avg       0.44      0.32      0.26      7900\n",
            " weighted avg       0.42      0.38      0.30      7900\n",
            "\n",
            "Epoch: 15\n",
            "\tTrain Loss: 1.413 | Train Acc: 37.82%\n",
            "\t Val. Loss: 1.421 |  Val. Acc: 37.49% \n",
            "\n",
            "               precision    recall  f1-score   support\n",
            "\n",
            "very negative       0.36      0.73      0.48      2077\n",
            "     negative       0.36      0.53      0.43      2058\n",
            "      neutral       0.53      0.01      0.02      1528\n",
            "     positive       0.53      0.30      0.38      1219\n",
            "very positive       1.00      0.00      0.00      1018\n",
            "\n",
            "     accuracy                           0.38      7900\n",
            "    macro avg       0.56      0.31      0.26      7900\n",
            " weighted avg       0.50      0.38      0.30      7900\n",
            "\n",
            "Epoch: 16\n",
            "\tTrain Loss: 1.415 | Train Acc: 37.46%\n",
            "\t Val. Loss: 1.417 |  Val. Acc: 37.81% \n",
            "\n",
            "               precision    recall  f1-score   support\n",
            "\n",
            "very negative       0.37      0.73      0.49      2077\n",
            "     negative       0.36      0.53      0.43      2058\n",
            "      neutral       0.47      0.01      0.02      1528\n",
            "     positive       0.51      0.27      0.36      1219\n",
            "very positive       1.00      0.00      0.00      1018\n",
            "\n",
            "     accuracy                           0.37      7900\n",
            "    macro avg       0.54      0.31      0.26      7900\n",
            " weighted avg       0.49      0.37      0.30      7900\n",
            "\n",
            "Epoch: 17\n",
            "\tTrain Loss: 1.409 | Train Acc: 38.31%\n",
            "\t Val. Loss: 1.413 |  Val. Acc: 38.07% \n",
            "\n",
            "               precision    recall  f1-score   support\n",
            "\n",
            "very negative       0.37      0.74      0.49      2077\n",
            "     negative       0.37      0.54      0.44      2058\n",
            "      neutral       0.32      0.01      0.01      1528\n",
            "     positive       0.53      0.31      0.39      1219\n",
            "very positive       1.00      0.00      0.00      1018\n",
            "\n",
            "     accuracy                           0.38      7900\n",
            "    macro avg       0.52      0.32      0.27      7900\n",
            " weighted avg       0.47      0.38      0.31      7900\n",
            "\n",
            "Epoch: 18\n",
            "\tTrain Loss: 1.404 | Train Acc: 38.08%\n",
            "\t Val. Loss: 1.409 |  Val. Acc: 38.33% \n",
            "\n",
            "               precision    recall  f1-score   support\n",
            "\n",
            "very negative       0.37      0.73      0.49      2077\n",
            "     negative       0.37      0.53      0.43      2058\n",
            "      neutral       0.37      0.01      0.02      1528\n",
            "     positive       0.53      0.30      0.39      1219\n",
            "very positive       0.57      0.00      0.01      1018\n",
            "\n",
            "     accuracy                           0.38      7900\n",
            "    macro avg       0.44      0.32      0.27      7900\n",
            " weighted avg       0.42      0.38      0.31      7900\n",
            "\n",
            "Epoch: 19\n",
            "\tTrain Loss: 1.405 | Train Acc: 38.46%\n",
            "\t Val. Loss: 1.406 |  Val. Acc: 38.39% \n",
            "\n",
            "               precision    recall  f1-score   support\n",
            "\n",
            "very negative       0.37      0.74      0.50      2077\n",
            "     negative       0.37      0.55      0.44      2058\n",
            "      neutral       0.38      0.02      0.03      1528\n",
            "     positive       0.51      0.29      0.37      1219\n",
            "very positive       1.00      0.00      0.01      1018\n",
            "\n",
            "     accuracy                           0.38      7900\n",
            "    macro avg       0.53      0.32      0.27      7900\n",
            " weighted avg       0.48      0.38      0.31      7900\n",
            "\n",
            "Epoch: 20\n",
            "\tTrain Loss: 1.401 | Train Acc: 38.64%\n",
            "\t Val. Loss: 1.407 |  Val. Acc: 37.85% \n",
            "\n",
            "               precision    recall  f1-score   support\n",
            "\n",
            "very negative       0.37      0.74      0.49      2077\n",
            "     negative       0.38      0.55      0.45      2058\n",
            "      neutral       0.33      0.01      0.02      1528\n",
            "     positive       0.54      0.31      0.40      1219\n",
            "very positive       0.33      0.00      0.00      1018\n",
            "\n",
            "     accuracy                           0.39      7900\n",
            "    macro avg       0.39      0.32      0.27      7900\n",
            " weighted avg       0.38      0.39      0.31      7900\n",
            "\n"
          ],
          "name": "stdout"
        }
      ]
    },
    {
      "cell_type": "markdown",
      "metadata": {
        "id": "w6sO3O9Xfa1S"
      },
      "source": [
        "## Train test logs"
      ]
    },
    {
      "cell_type": "code",
      "metadata": {
        "colab": {
          "base_uri": "https://localhost:8080/",
          "height": 626
        },
        "id": "VXJCOYYOeqbD",
        "outputId": "9b025959-f16a-42b9-c44e-8d00a12533dc"
      },
      "source": [
        "plt.style.use('ggplot')\n",
        "\n",
        "fig, axs = plt.subplots(1,2,figsize=(20,10))\n",
        "\n",
        "axs[0].plot(trn_loss, label = 'train loss')\n",
        "axs[0].plot(tst_loss, label = 'test loss')\n",
        "axs[0].legend(loc=\"upper right\")\n",
        "axs[0].set_title(\"Loss\")\n",
        "\n",
        "axs[1].plot(trn_acc,  label = 'train accuracy')\n",
        "axs[1].plot(tst_acc,  label = 'test accuracy')\n",
        "axs[1].legend(loc=\"lower right\")\n",
        "axs[1].set_title(\"Accuracy\")"
      ],
      "execution_count": 116,
      "outputs": [
        {
          "output_type": "execute_result",
          "data": {
            "text/plain": [
              "Text(0.5, 1.0, 'Accuracy')"
            ]
          },
          "metadata": {
            "tags": []
          },
          "execution_count": 116
        },
        {
          "output_type": "display_data",
          "data": {
            "image/png": "[encoded data removed]",
            "text/plain": [
              "<Figure size 1440x720 with 2 Axes>"
            ]
          },
          "metadata": {
            "tags": []
          }
        }
      ]
    },
    {
      "cell_type": "markdown",
      "metadata": {
        "id": "tLB1MT-bfes2"
      },
      "source": [
        "## Validate model results"
      ]
    },
    {
      "cell_type": "code",
      "metadata": {
        "id": "PCXtqGpJfcuz"
      },
      "source": [
        "def test_model(sentence):\n",
        "  tokenized = [tok.text for tok in nlp.tokenizer(sentence)]\n",
        "  indexed = [TEXT.vocab.stoi[t] for t in tokenized]\n",
        "  tensor = torch.LongTensor(indexed)\n",
        "  tensor = tensor.unsqueeze(1).to(device)\n",
        "\n",
        "  model.eval()\n",
        "  prediction = model(tensor)\n",
        "\n",
        "  return( [\"very negative\", \"negative\", \"neutral\", \"positive\", \"very positive\"][torch.argmax(prediction, dim=0).item()] )"
      ],
      "execution_count": null,
      "outputs": []
    },
    {
      "cell_type": "code",
      "metadata": {
        "colab": {
          "base_uri": "https://localhost:8080/"
        },
        "id": "LraO_vfpfhPq",
        "outputId": "78ded81e-c6b7-461e-d100-ffd5ed52a579"
      },
      "source": [
        "sentence = test.sentence[111]\n",
        "sentiment_values = test.sentiment_values[111]\n",
        "test_model(sentence), [\"very negative\", \"negative\", \"neutral\", \"positive\", \"very positive\"][sentiment_values], sentence"
      ],
      "execution_count": null,
      "outputs": [
        {
          "output_type": "execute_result",
          "data": {
            "text/plain": [
              "('very negative',\n",
              " 'negative',\n",
              " 'Filled with low-brow humor , gratuitous violence and a disturbing disregard for life .')"
            ]
          },
          "metadata": {
            "tags": []
          },
          "execution_count": 70
        }
      ]
    },
    {
      "cell_type": "code",
      "metadata": {
        "colab": {
          "base_uri": "https://localhost:8080/"
        },
        "id": "-iHWv45fftaU",
        "outputId": "9218612f-a2c5-4f8d-9ce1-a6c493adb912"
      },
      "source": [
        "sentence = test.sentence[221]\n",
        "sentiment_values = test.sentiment_values[221]\n",
        "test_model(sentence), [\"very negative\", \"negative\", \"neutral\", \"positive\", \"very positive\"][sentiment_values], sentence"
      ],
      "execution_count": null,
      "outputs": [
        {
          "output_type": "execute_result",
          "data": {
            "text/plain": [
              "('very negative',\n",
              " 'very negative',\n",
              " \"It 's not just the vampires that are damned in Queen of the Damned -- the viewers will feel they suffer the same fate .\")"
            ]
          },
          "metadata": {
            "tags": []
          },
          "execution_count": 71
        }
      ]
    },
    {
      "cell_type": "code",
      "metadata": {
        "colab": {
          "base_uri": "https://localhost:8080/"
        },
        "id": "cNxRJTFsgCpr",
        "outputId": "7683bd31-91ff-4e60-aa59-019b1478313d"
      },
      "source": [
        "sentence = test.sentence[333]\n",
        "sentiment_values = test.sentiment_values[333]\n",
        "test_model(sentence), [\"very negative\", \"negative\", \"neutral\", \"positive\", \"very positive\"][sentiment_values], sentence"
      ],
      "execution_count": null,
      "outputs": [
        {
          "output_type": "execute_result",
          "data": {
            "text/plain": [
              "('very negative',\n",
              " 'very negative',\n",
              " 'The Irwins emerge unscathed , but the fictional footage is unconvincing and criminally badly acted .')"
            ]
          },
          "metadata": {
            "tags": []
          },
          "execution_count": 73
        }
      ]
    },
    {
      "cell_type": "code",
      "metadata": {
        "colab": {
          "base_uri": "https://localhost:8080/"
        },
        "id": "79LVGFHtgW2a",
        "outputId": "84cffde4-1e44-443c-d5e9-9d921c7d3ab3"
      },
      "source": [
        "sentence = test.sentence[444]\n",
        "sentiment_values = test.sentiment_values[444]\n",
        "test_model(sentence), [\"very negative\", \"negative\", \"neutral\", \"positive\", \"very positive\"][sentiment_values], sentence"
      ],
      "execution_count": null,
      "outputs": [
        {
          "output_type": "execute_result",
          "data": {
            "text/plain": [
              "('negative',\n",
              " 'positive',\n",
              " 'The film is reasonably entertaining , though it begins to drag two-thirds through , when the melodramatic aspects start to overtake the comedy .')"
            ]
          },
          "metadata": {
            "tags": []
          },
          "execution_count": 74
        }
      ]
    },
    {
      "cell_type": "code",
      "metadata": {
        "colab": {
          "base_uri": "https://localhost:8080/"
        },
        "id": "R0nen_VhlKCD",
        "outputId": "2e41b8c7-f7de-46db-d71c-cabdb277195f"
      },
      "source": [
        "sentence = test.sentence[567]\n",
        "sentiment_values = test.sentiment_values[567]\n",
        "test_model(sentence), [\"very negative\", \"negative\", \"neutral\", \"positive\", \"very positive\"][sentiment_values], sentence"
      ],
      "execution_count": null,
      "outputs": [
        {
          "output_type": "execute_result",
          "data": {
            "text/plain": [
              "('very negative',\n",
              " 'negative',\n",
              " 'The film is so packed with subplots involving the various Silbersteins that it feels more like the pilot episode of a TV series than a feature film .')"
            ]
          },
          "metadata": {
            "tags": []
          },
          "execution_count": 76
        }
      ]
    },
    {
      "cell_type": "code",
      "metadata": {
        "colab": {
          "base_uri": "https://localhost:8080/"
        },
        "id": "5U044iIvlRaJ",
        "outputId": "426bf3d3-56b5-4c6d-dc26-0420adbe0997"
      },
      "source": [
        "sentence = test.sentence[611]\n",
        "sentiment_values = test.sentiment_values[611]\n",
        "test_model(sentence), [\"very negative\", \"negative\", \"neutral\", \"positive\", \"very positive\"][sentiment_values], sentence"
      ],
      "execution_count": null,
      "outputs": [
        {
          "output_type": "execute_result",
          "data": {
            "text/plain": [
              "('very negative',\n",
              " 'negative',\n",
              " 'Starts out with tremendous promise , introducing an intriguing and alluring premise , only to fall prey to a boatload of screenwriting cliches that sink it faster than a leaky freighter .')"
            ]
          },
          "metadata": {
            "tags": []
          },
          "execution_count": 65
        }
      ]
    },
    {
      "cell_type": "code",
      "metadata": {
        "colab": {
          "base_uri": "https://localhost:8080/"
        },
        "id": "SZDp5JHnmGd_",
        "outputId": "a57ddf22-a240-426c-fcd4-d8749abde28c"
      },
      "source": [
        "sentence = test.sentence[711]\n",
        "sentiment_values = test.sentiment_values[711]\n",
        "test_model(sentence), [\"very negative\", \"negative\", \"neutral\", \"positive\", \"very positive\"][sentiment_values], sentence"
      ],
      "execution_count": null,
      "outputs": [
        {
          "output_type": "execute_result",
          "data": {
            "text/plain": [
              "('negative',\n",
              " 'very positive',\n",
              " 'Gangster No. 1 is solid , satisfying fare for adults .')"
            ]
          },
          "metadata": {
            "tags": []
          },
          "execution_count": 66
        }
      ]
    },
    {
      "cell_type": "code",
      "metadata": {
        "colab": {
          "base_uri": "https://localhost:8080/"
        },
        "id": "gqqep3KemWvX",
        "outputId": "98371871-4bd0-4389-bfbc-ad8e7bc25e56"
      },
      "source": [
        "sentence = test.sentence[811]\n",
        "sentiment_values = test.sentiment_values[711]\n",
        "test_model(sentence), [\"very negative\", \"negative\", \"neutral\", \"positive\", \"very positive\"][sentiment_values], sentence"
      ],
      "execution_count": null,
      "outputs": [
        {
          "output_type": "execute_result",
          "data": {
            "text/plain": [
              "('very negative',\n",
              " 'very positive',\n",
              " \"Showtime is n't particularly assaultive , but it can still make you feel that you never want to see another car chase , explosion or gunfight again .\")"
            ]
          },
          "metadata": {
            "tags": []
          },
          "execution_count": 67
        }
      ]
    },
    {
      "cell_type": "code",
      "metadata": {
        "colab": {
          "base_uri": "https://localhost:8080/"
        },
        "id": "_VNLGrGEmXcw",
        "outputId": "c0b9b525-9950-42a5-831b-903ce034b525"
      },
      "source": [
        "sentence = test.sentence[911]\n",
        "sentiment_values = test.sentiment_values[711]\n",
        "test_model(sentence), [\"very negative\", \"negative\", \"neutral\", \"positive\", \"very positive\"][sentiment_values], sentence"
      ],
      "execution_count": null,
      "outputs": [
        {
          "output_type": "execute_result",
          "data": {
            "text/plain": [
              "('negative',\n",
              " 'very positive',\n",
              " \"The comic performances are all spot on , especially Lee Ross 's turn as Ken .\")"
            ]
          },
          "metadata": {
            "tags": []
          },
          "execution_count": 68
        }
      ]
    },
    {
      "cell_type": "code",
      "metadata": {
        "id": "Y8jfLhrDudmp"
      },
      "source": [
        ""
      ],
      "execution_count": null,
      "outputs": []
    }
  ]
}